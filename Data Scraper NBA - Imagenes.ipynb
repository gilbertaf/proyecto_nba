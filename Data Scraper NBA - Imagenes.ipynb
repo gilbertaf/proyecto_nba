{
 "cells": [
  {
   "cell_type": "code",
   "execution_count": 1,
   "metadata": {},
   "outputs": [],
   "source": [
    "from selenium import webdriver\n",
    "import time \n",
    "from bs4 import BeautifulSoup\n",
    "import sqlalchemy\n",
    "import urllib\n",
    "import shutil\n",
    "import pandas as pd"
   ]
  },
  {
   "cell_type": "code",
   "execution_count": 2,
   "metadata": {},
   "outputs": [],
   "source": [
    "engine = sqlalchemy.create_engine('mssql+pyodbc://' + 'LAPTOP-HAPH02BA' + '/' +'NBA'+ \"?\" + 'driver=SQL Server Native Client 11.0')"
   ]
  },
  {
   "cell_type": "code",
   "execution_count": 3,
   "metadata": {},
   "outputs": [],
   "source": [
    "con = engine.connect()"
   ]
  },
  {
   "cell_type": "code",
   "execution_count": 4,
   "metadata": {},
   "outputs": [],
   "source": [
    "listado_jugadores = 'select distinct(Player) from mvp where year = 2022'"
   ]
  },
  {
   "cell_type": "code",
   "execution_count": 5,
   "metadata": {},
   "outputs": [],
   "source": [
    "df_jugadores = pd.DataFrame(con.execute(listado_jugadores).fetchall())"
   ]
  },
  {
   "cell_type": "code",
   "execution_count": 6,
   "metadata": {},
   "outputs": [],
   "source": [
    "df_jugadores.columns = ['Player']"
   ]
  },
  {
   "cell_type": "code",
   "execution_count": 7,
   "metadata": {},
   "outputs": [],
   "source": [
    "lista_jugadores = list(df_jugadores['Player'])"
   ]
  },
  {
   "cell_type": "code",
   "execution_count": 8,
   "metadata": {},
   "outputs": [],
   "source": [
    "for jugador in lista_jugadores:\n",
    "    driver = webdriver.Chrome()\n",
    "    url = \"https://www.basketball-reference.com/\"\n",
    "    driver.get(url)\n",
    "    time.sleep(3)\n",
    "    Element = driver.find_element_by_css_selector('#header > div.search > form > div > div > input.ac-input.completely')\n",
    "    Element.send_keys(jugador)\n",
    "    Element = driver.find_element_by_css_selector('#header > div.search > form > input[type=submit]:nth-child(2)')\n",
    "    Element.click()\n",
    "    try:\n",
    "        html = driver.page_source\n",
    "        soup = BeautifulSoup(html)\n",
    "        link_imagen = soup.findAll('img',attrs={'itemscope':'image'})[0]['src']\n",
    "        url_imagen = link_imagen\n",
    "        urllib.request.urlretrieve(url_imagen, \"Foto de Jugadores/\"+jugador +\".jpg\")\n",
    "    except:\n",
    "            try:\n",
    "                Element = driver.find_element_by_css_selector('#players > div.search-item > div.search-item-name > a')\n",
    "                Element.click()\n",
    "                html = driver.page_source\n",
    "                soup = BeautifulSoup(html)\n",
    "                link_imagen = soup.findAll('img',attrs={'itemscope':'image'})[0]['src']\n",
    "                url_imagen = link_imagen\n",
    "                urllib.request.urlretrieve(url_imagen, \"Foto de Jugadores/\"+jugador +\".jpg\")\n",
    "            except:\n",
    "                \n",
    "                try:\n",
    "                    Element = driver.find_element_by_css_selector('#players > div.search-item > div.search-item-name > strong > a')\n",
    "                    Element.click()\n",
    "                    html = driver.page_source\n",
    "                    soup = BeautifulSoup(html)\n",
    "                    link_imagen = soup.findAll('img',attrs={'itemscope':'image'})[0]['src']\n",
    "                    url_imagen = link_imagen\n",
    "                    urllib.request.urlretrieve(url_imagen, \"Foto de Jugadores/\"+jugador +\".jpg\")\n",
    "                except:                 \n",
    "                    ruta_copiar = 'no pic.jpg'\n",
    "                    ruta_pegar = 'Foto de Jugadores/' + jugador + '.jpg'\n",
    "                    shutil.copy(ruta_copiar, ruta_pegar)\n",
    "                    driver.close()"
   ]
  }
 ],
 "metadata": {
  "kernelspec": {
   "display_name": "Python 3",
   "language": "python",
   "name": "python3"
  },
  "language_info": {
   "codemirror_mode": {
    "name": "ipython",
    "version": 3
   },
   "file_extension": ".py",
   "mimetype": "text/x-python",
   "name": "python",
   "nbconvert_exporter": "python",
   "pygments_lexer": "ipython3",
   "version": "3.8.5"
  }
 },
 "nbformat": 4,
 "nbformat_minor": 4
}
