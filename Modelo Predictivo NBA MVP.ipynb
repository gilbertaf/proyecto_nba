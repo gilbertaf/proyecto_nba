{
 "cells": [
  {
   "cell_type": "markdown",
   "metadata": {},
   "source": [
    "# Entrenamiento y Construcción Modelo Predictivo MVP NBA\n",
    "\n",
    "Se entrenó un modelo con los datos estadísticos de los jugadores de la NBA desde 1980 hasta 2021"
   ]
  },
  {
   "cell_type": "markdown",
   "metadata": {},
   "source": [
    "# Obtención de datos"
   ]
  },
  {
   "cell_type": "code",
   "execution_count": 1,
   "metadata": {},
   "outputs": [],
   "source": [
    "#libreria para conexion a base de datos\n",
    "import pyodbc \n",
    "import pandas as pd\n",
    "import numpy as np\n",
    "import warnings #notificaciones\n",
    "warnings.filterwarnings(\"ignore\")"
   ]
  },
  {
   "cell_type": "code",
   "execution_count": 2,
   "metadata": {},
   "outputs": [],
   "source": [
    "#conexion a base de datos\n",
    "conn = pyodbc.connect('Driver={SQL Server};'\n",
    "                      'Server=LAPTOP-HAPH02BA;'\n",
    "                      'Database=NBA;'\n",
    "                      'Trusted_Connection=yes;')"
   ]
  },
  {
   "cell_type": "code",
   "execution_count": 3,
   "metadata": {},
   "outputs": [],
   "source": [
    "#query para obtener datos\n",
    "query = 'select * from mvp where year < 2022'"
   ]
  },
  {
   "cell_type": "code",
   "execution_count": 4,
   "metadata": {},
   "outputs": [
    {
     "data": {
      "text/html": [
       "<div>\n",
       "<style scoped>\n",
       "    .dataframe tbody tr th:only-of-type {\n",
       "        vertical-align: middle;\n",
       "    }\n",
       "\n",
       "    .dataframe tbody tr th {\n",
       "        vertical-align: top;\n",
       "    }\n",
       "\n",
       "    .dataframe thead th {\n",
       "        text-align: right;\n",
       "    }\n",
       "</style>\n",
       "<table border=\"1\" class=\"dataframe\">\n",
       "  <thead>\n",
       "    <tr style=\"text-align: right;\">\n",
       "      <th></th>\n",
       "      <th>Player</th>\n",
       "      <th>Pos</th>\n",
       "      <th>Age</th>\n",
       "      <th>G</th>\n",
       "      <th>year</th>\n",
       "      <th>PTS</th>\n",
       "      <th>AST</th>\n",
       "      <th>STL</th>\n",
       "      <th>TRB</th>\n",
       "      <th>BLK</th>\n",
       "      <th>...</th>\n",
       "      <th>3P</th>\n",
       "      <th>3PA</th>\n",
       "      <th>3P%</th>\n",
       "      <th>2P</th>\n",
       "      <th>2PA</th>\n",
       "      <th>2P%</th>\n",
       "      <th>FT</th>\n",
       "      <th>FTA</th>\n",
       "      <th>mvp</th>\n",
       "      <th>Fecha_act</th>\n",
       "    </tr>\n",
       "  </thead>\n",
       "  <tbody>\n",
       "    <tr>\n",
       "      <th>0</th>\n",
       "      <td>Dwight Howard</td>\n",
       "      <td>PF</td>\n",
       "      <td>19.0</td>\n",
       "      <td>82.0</td>\n",
       "      <td>2005.0</td>\n",
       "      <td>12.0</td>\n",
       "      <td>0.9</td>\n",
       "      <td>0.9</td>\n",
       "      <td>10.0</td>\n",
       "      <td>1.7</td>\n",
       "      <td>...</td>\n",
       "      <td>0.0</td>\n",
       "      <td>0.0</td>\n",
       "      <td>0.000</td>\n",
       "      <td>4.3</td>\n",
       "      <td>8.2</td>\n",
       "      <td>0.521</td>\n",
       "      <td>3.4</td>\n",
       "      <td>5.0</td>\n",
       "      <td>0.0</td>\n",
       "      <td>2022-02-03</td>\n",
       "    </tr>\n",
       "    <tr>\n",
       "      <th>1</th>\n",
       "      <td>Josh Howard</td>\n",
       "      <td>SF</td>\n",
       "      <td>24.0</td>\n",
       "      <td>76.0</td>\n",
       "      <td>2005.0</td>\n",
       "      <td>12.6</td>\n",
       "      <td>1.4</td>\n",
       "      <td>1.5</td>\n",
       "      <td>6.4</td>\n",
       "      <td>0.6</td>\n",
       "      <td>...</td>\n",
       "      <td>0.4</td>\n",
       "      <td>1.5</td>\n",
       "      <td>0.296</td>\n",
       "      <td>4.5</td>\n",
       "      <td>8.9</td>\n",
       "      <td>0.506</td>\n",
       "      <td>2.2</td>\n",
       "      <td>3.1</td>\n",
       "      <td>0.0</td>\n",
       "      <td>2022-02-03</td>\n",
       "    </tr>\n",
       "    <tr>\n",
       "      <th>2</th>\n",
       "      <td>Juwan Howard</td>\n",
       "      <td>PF</td>\n",
       "      <td>31.0</td>\n",
       "      <td>61.0</td>\n",
       "      <td>2005.0</td>\n",
       "      <td>9.6</td>\n",
       "      <td>1.5</td>\n",
       "      <td>0.5</td>\n",
       "      <td>5.7</td>\n",
       "      <td>0.1</td>\n",
       "      <td>...</td>\n",
       "      <td>0.0</td>\n",
       "      <td>0.0</td>\n",
       "      <td>0.000</td>\n",
       "      <td>4.0</td>\n",
       "      <td>8.9</td>\n",
       "      <td>0.452</td>\n",
       "      <td>1.6</td>\n",
       "      <td>1.9</td>\n",
       "      <td>0.0</td>\n",
       "      <td>2022-02-03</td>\n",
       "    </tr>\n",
       "    <tr>\n",
       "      <th>3</th>\n",
       "      <td>Troy Hudson</td>\n",
       "      <td>PG</td>\n",
       "      <td>28.0</td>\n",
       "      <td>79.0</td>\n",
       "      <td>2005.0</td>\n",
       "      <td>8.7</td>\n",
       "      <td>3.6</td>\n",
       "      <td>0.3</td>\n",
       "      <td>1.3</td>\n",
       "      <td>0.1</td>\n",
       "      <td>...</td>\n",
       "      <td>1.1</td>\n",
       "      <td>3.3</td>\n",
       "      <td>0.345</td>\n",
       "      <td>2.2</td>\n",
       "      <td>5.1</td>\n",
       "      <td>0.436</td>\n",
       "      <td>0.9</td>\n",
       "      <td>1.1</td>\n",
       "      <td>0.0</td>\n",
       "      <td>2022-02-03</td>\n",
       "    </tr>\n",
       "    <tr>\n",
       "      <th>4</th>\n",
       "      <td>Larry Hughes</td>\n",
       "      <td>SG</td>\n",
       "      <td>26.0</td>\n",
       "      <td>61.0</td>\n",
       "      <td>2005.0</td>\n",
       "      <td>22.0</td>\n",
       "      <td>4.7</td>\n",
       "      <td>2.9</td>\n",
       "      <td>6.3</td>\n",
       "      <td>0.3</td>\n",
       "      <td>...</td>\n",
       "      <td>1.0</td>\n",
       "      <td>3.4</td>\n",
       "      <td>0.282</td>\n",
       "      <td>6.7</td>\n",
       "      <td>14.4</td>\n",
       "      <td>0.465</td>\n",
       "      <td>5.8</td>\n",
       "      <td>7.4</td>\n",
       "      <td>0.0</td>\n",
       "      <td>2022-02-03</td>\n",
       "    </tr>\n",
       "  </tbody>\n",
       "</table>\n",
       "<p>5 rows × 29 columns</p>\n",
       "</div>"
      ],
      "text/plain": [
       "          Player Pos   Age     G    year   PTS  AST  STL   TRB  BLK  ...   3P  \\\n",
       "0  Dwight Howard  PF  19.0  82.0  2005.0  12.0  0.9  0.9  10.0  1.7  ...  0.0   \n",
       "1    Josh Howard  SF  24.0  76.0  2005.0  12.6  1.4  1.5   6.4  0.6  ...  0.4   \n",
       "2   Juwan Howard  PF  31.0  61.0  2005.0   9.6  1.5  0.5   5.7  0.1  ...  0.0   \n",
       "3    Troy Hudson  PG  28.0  79.0  2005.0   8.7  3.6  0.3   1.3  0.1  ...  1.1   \n",
       "4   Larry Hughes  SG  26.0  61.0  2005.0  22.0  4.7  2.9   6.3  0.3  ...  1.0   \n",
       "\n",
       "   3PA    3P%   2P   2PA    2P%   FT  FTA  mvp  Fecha_act  \n",
       "0  0.0  0.000  4.3   8.2  0.521  3.4  5.0  0.0 2022-02-03  \n",
       "1  1.5  0.296  4.5   8.9  0.506  2.2  3.1  0.0 2022-02-03  \n",
       "2  0.0  0.000  4.0   8.9  0.452  1.6  1.9  0.0 2022-02-03  \n",
       "3  3.3  0.345  2.2   5.1  0.436  0.9  1.1  0.0 2022-02-03  \n",
       "4  3.4  0.282  6.7  14.4  0.465  5.8  7.4  0.0 2022-02-03  \n",
       "\n",
       "[5 rows x 29 columns]"
      ]
     },
     "execution_count": 4,
     "metadata": {},
     "output_type": "execute_result"
    }
   ],
   "source": [
    "#carga de datos a dataframe\n",
    "df = pd.read_sql_query(query,conn)\n",
    "df.head()"
   ]
  },
  {
   "cell_type": "markdown",
   "metadata": {},
   "source": [
    "# Construcción del modelo"
   ]
  },
  {
   "cell_type": "markdown",
   "metadata": {},
   "source": [
    "Dada la poca muestra de datos de MVP para cada temporada, solo 1 MVP por temporada, y una cantidad de aproximadamente 300 jugadores por temporada, esto va a llevar a un problema de desbalanceo de datos. Para los fines, enfocamos el esfuerzo en un modelo probabilístico de Naive Bayes, asumiendo que el que tenga la probabilidad más alta será el MVP.\n",
    "\n",
    "Otro problema es como va cambiando la liga, es decir, el juicio de los expertos va cambiando al igual que el juego durante los años, surgen nuevas estadísticas que hacen que valoren a los jugadores diferente. Por esto el approach que tomamos fue de entrenar el modelo con los años anteriores y probar con cada año, a medida que van pasando los años en el bucle for el modelo irá fortaleciendo y actualizando lo que vaya aprendiendo."
   ]
  },
  {
   "cell_type": "code",
   "execution_count": 5,
   "metadata": {},
   "outputs": [],
   "source": [
    "from sklearn.naive_bayes import GaussianNB\n",
    "\n",
    "years = range(2010,2022)\n",
    "mvp_years = dict()\n",
    "resultado_mvp = pd.DataFrame(columns=['Player','Year','MVP'])\n",
    "nba_mvp_ = df[df['G']>=50]\n",
    "\n",
    "for y in years:\n",
    "    X_train = nba_mvp_[nba_mvp_.year < y][['PTS','AST','TRB','FG','WS','PER','VORP','BPM','WS/48']]\n",
    "    y_train = nba_mvp_[nba_mvp_.year < y][['mvp']]\n",
    "    X_test = nba_mvp_[nba_mvp_.year == y][['PTS','AST','TRB','FG','WS','PER','VORP','BPM','WS/48']]\n",
    "    test = nba_mvp_[nba_mvp_.year == y][['Player','mvp']]\n",
    "    \n",
    "    gb = GaussianNB()\n",
    "    gb.fit(X_train,y_train)\n",
    "    pred_proba = gb.predict_proba(X_test)\n",
    "    \n",
    "    y_pred_proba = []\n",
    "    for i in enumerate(pred_proba):\n",
    "        y_pred_proba.append(i[1][1])\n",
    "    \n",
    "    y_pred_proba = np.asarray(y_pred_proba)\n",
    "    mvp_years = pd.DataFrame({'Player':test['Player'],\n",
    "                             'Year':y,\n",
    "                             'MVP':y_pred_proba,\n",
    "                             'MVP_Real':test['mvp']})\n",
    "    resultado_mvp = pd.concat([resultado_mvp,mvp_years], sort=True)\n",
    "\n",
    "resultado_mvp = resultado_mvp.reset_index(drop=True)\n",
    "\n",
    "resultado_mvp = resultado_mvp.sort_values(by=['Year','MVP'], ascending=False).groupby('Year').head(1)\n",
    "\n",
    "resultado_mvp = resultado_mvp.sort_values('Year', ascending=False).drop_duplicates()"
   ]
  },
  {
   "cell_type": "markdown",
   "metadata": {},
   "source": [
    "# Resultados"
   ]
  },
  {
   "cell_type": "code",
   "execution_count": 6,
   "metadata": {},
   "outputs": [
    {
     "name": "stdout",
     "output_type": "stream",
     "text": [
      "accuracy: 75.0\n"
     ]
    }
   ],
   "source": [
    "#nivel de acierto del modelo\n",
    "accuracy = round(resultado_mvp['MVP_Real'].sum()/resultado_mvp['MVP'].sum() * 100,1)\n",
    "\n",
    "print('accuracy: '+ str(accuracy))"
   ]
  },
  {
   "cell_type": "code",
   "execution_count": 7,
   "metadata": {},
   "outputs": [
    {
     "data": {
      "text/html": [
       "<div>\n",
       "<style scoped>\n",
       "    .dataframe tbody tr th:only-of-type {\n",
       "        vertical-align: middle;\n",
       "    }\n",
       "\n",
       "    .dataframe tbody tr th {\n",
       "        vertical-align: top;\n",
       "    }\n",
       "\n",
       "    .dataframe thead th {\n",
       "        text-align: right;\n",
       "    }\n",
       "</style>\n",
       "<table border=\"1\" class=\"dataframe\">\n",
       "  <thead>\n",
       "    <tr style=\"text-align: right;\">\n",
       "      <th></th>\n",
       "      <th>MVP</th>\n",
       "      <th>MVP_Real</th>\n",
       "      <th>Player</th>\n",
       "      <th>Year</th>\n",
       "    </tr>\n",
       "  </thead>\n",
       "  <tbody>\n",
       "    <tr>\n",
       "      <th>2241</th>\n",
       "      <td>1.0</td>\n",
       "      <td>0.0</td>\n",
       "      <td>James Harden</td>\n",
       "      <td>2017</td>\n",
       "    </tr>\n",
       "    <tr>\n",
       "      <th>938</th>\n",
       "      <td>1.0</td>\n",
       "      <td>0.0</td>\n",
       "      <td>Kevin Durant</td>\n",
       "      <td>2013</td>\n",
       "    </tr>\n",
       "    <tr>\n",
       "      <th>472</th>\n",
       "      <td>1.0</td>\n",
       "      <td>0.0</td>\n",
       "      <td>LeBron James</td>\n",
       "      <td>2011</td>\n",
       "    </tr>\n",
       "  </tbody>\n",
       "</table>\n",
       "</div>"
      ],
      "text/plain": [
       "      MVP  MVP_Real        Player  Year\n",
       "2241  1.0       0.0  James Harden  2017\n",
       "938   1.0       0.0  Kevin Durant  2013\n",
       "472   1.0       0.0  LeBron James  2011"
      ]
     },
     "execution_count": 7,
     "metadata": {},
     "output_type": "execute_result"
    }
   ],
   "source": [
    "#fallos del modelo\n",
    "resultado_mvp[resultado_mvp['MVP_Real']==0]"
   ]
  },
  {
   "cell_type": "markdown",
   "metadata": {},
   "source": [
    "Los resultados del modelo son bastantes satisfactorios, principalmente para los años más recientes, evaluando el accuracy de los últimos 11 años, el modelo logró acertar en el 75% de los casos y solo falló en 3 años. Sin embargo los jugadores que el modelo predice que debieron ser MVP, especificamente para el 2011,  2013 y 2017, fueron los 2dos más votados para MVP en las 3 ocasiones y para algunos expertos del deporte, afirman que debieron ser los MVP. Estos son resultados aceptables."
   ]
  },
  {
   "cell_type": "markdown",
   "metadata": {},
   "source": [
    "# Salvamiento del modelo"
   ]
  },
  {
   "cell_type": "code",
   "execution_count": 8,
   "metadata": {},
   "outputs": [],
   "source": [
    "import pickle\n",
    "\n",
    "modelo_naivebayes_nba_mvp = 'modelo_naivebayes_nba_mvp.sav'\n",
    "pickle.dump(gb, open(modelo_naivebayes_nba_mvp, 'wb'))"
   ]
  }
 ],
 "metadata": {
  "kernelspec": {
   "display_name": "Python 3 (ipykernel)",
   "language": "python",
   "name": "python3"
  },
  "language_info": {
   "codemirror_mode": {
    "name": "ipython",
    "version": 3
   },
   "file_extension": ".py",
   "mimetype": "text/x-python",
   "name": "python",
   "nbconvert_exporter": "python",
   "pygments_lexer": "ipython3",
   "version": "3.9.13"
  }
 },
 "nbformat": 4,
 "nbformat_minor": 4
}
